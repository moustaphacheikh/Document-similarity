{
 "cells": [
  {
   "cell_type": "code",
   "execution_count": 5,
   "metadata": {
    "collapsed": true,
    "deletable": true,
    "editable": true
   },
   "outputs": [],
   "source": [
    "import os\n",
    "from gensim.models.ldamulticore import LdaMulticore\n",
    "from gensim.similarities import MatrixSimilarity\n",
    "from gensim.models.lsimodel import LsiModel\n",
    "from gensim.models import TfidfModel"
   ]
  },
  {
   "cell_type": "code",
   "execution_count": 9,
   "metadata": {
    "collapsed": false,
    "deletable": true,
    "editable": true
   },
   "outputs": [],
   "source": [
    "import tarfile\n",
    "import itertools\n",
    "import gensim\n",
    "import logging, gensim, bz2\n",
    "#logging.basicConfig(format='%(asctime)s : %(levelname)s : %(message)s', level=logging.INFO)\n",
    "from os import listdir\n",
    "from os.path import isfile, join\n",
    "import numpy as np\n",
    "import seaborn as sns\n",
    "import matplotlib.pyplot as plt\n",
    "%matplotlib inline\n",
    "import re"
   ]
  },
  {
   "cell_type": "code",
   "execution_count": null,
   "metadata": {
    "collapsed": true,
    "deletable": true,
    "editable": true
   },
   "outputs": [],
   "source": []
  },
  {
   "cell_type": "code",
   "execution_count": 2,
   "metadata": {
    "collapsed": true,
    "deletable": true,
    "editable": true
   },
   "outputs": [],
   "source": [
    "train_path = './data/train'\n",
    "test_path = './data/test'\n",
    "def docs_names(path):\n",
    "    names=[]\n",
    "    for file in os.listdir(path):\n",
    "        for s in os.listdir(path+'/'+file):\n",
    "            names.append(path+'/'+file+'/'+s)\n",
    "    return names"
   ]
  },
  {
   "cell_type": "code",
   "execution_count": 10,
   "metadata": {
    "collapsed": true,
    "deletable": true,
    "editable": true
   },
   "outputs": [],
   "source": [
    "STOPWORDS =['vide']\n",
    "def remove_extra_whitespace(string):\n",
    "    string = re.sub(r'\\s+', ' ', string)\n",
    "    string = re.sub(r'[^\\u0600-\\u06FF]', ' ', string)\n",
    "    return re.sub(r\"\\s{2,}\", \" \", string).strip()\n",
    "def process_message(message): \n",
    "    content =remove_extra_whitespace(message)\n",
    "    return content.split()\n",
    "def get_corpus_by_names(names):\n",
    "    corpus=[]\n",
    "    for file_name in names:\n",
    "        if isfile(join(file_name)):\n",
    "            with open(file_name, 'r',encoding='utf8') as f_:\n",
    "                text = process_message(f_.read())\n",
    "                corpus.append(text)\n",
    "    return corpus\n",
    "def get_num_of_topics():\n",
    "    return 10"
   ]
  },
  {
   "cell_type": "code",
   "execution_count": 11,
   "metadata": {
    "collapsed": false,
    "deletable": true,
    "editable": true
   },
   "outputs": [],
   "source": [
    "train_names = docs_names(train_path)\n",
    "train_corpus = get_corpus_by_names(train_names)"
   ]
  },
  {
   "cell_type": "code",
   "execution_count": null,
   "metadata": {
    "collapsed": true,
    "deletable": true,
    "editable": true
   },
   "outputs": [],
   "source": [
    "test_names = docs_names(test_path)\n",
    "test_corpus = get_corpus_by_names(test_names)"
   ]
  },
  {
   "cell_type": "code",
   "execution_count": 12,
   "metadata": {
    "collapsed": true,
    "deletable": true,
    "editable": true
   },
   "outputs": [],
   "source": [
    "dictionary = gensim.corpora.dictionary.Dictionary(train_corpus)\n",
    "dictionary.filter_extremes(no_below=10, no_above=0.1)"
   ]
  },
  {
   "cell_type": "code",
   "execution_count": 13,
   "metadata": {
    "collapsed": true,
    "deletable": true,
    "editable": true
   },
   "outputs": [],
   "source": [
    "tfidf_model = TfidfModel(train_corpus,dictionary=dictionary)"
   ]
  },
  {
   "cell_type": "code",
   "execution_count": 14,
   "metadata": {
    "collapsed": true,
    "deletable": true,
    "editable": true
   },
   "outputs": [],
   "source": [
    "def get_corpus_bow(corpus, dictionary):\n",
    "    corpus_bow=[]\n",
    "    for tokens in corpus:\n",
    "        corpus_bow.append(dictionary.doc2bow(tokens))\n",
    "    return corpus_bow\n",
    "def get_corpus_tfidf(corpus, tfidf_model,dictionary):\n",
    "    corpus_tfidf = get_corpus_bow(corpus, dictionary)\n",
    "    corpus_tfidf = tfidf_model[corpus_tfidf]\n",
    "    return corpus_tfidf"
   ]
  },
  {
   "cell_type": "code",
   "execution_count": 15,
   "metadata": {
    "collapsed": true,
    "deletable": true,
    "editable": true
   },
   "outputs": [],
   "source": [
    "train_corpus_bow = get_corpus_bow(train_corpus, dictionary)\n",
    "train_corpus_tfidf = get_corpus_tfidf(train_corpus, tfidf_model,dictionary)"
   ]
  },
  {
   "cell_type": "code",
   "execution_count": 17,
   "metadata": {
    "collapsed": true,
    "deletable": true,
    "editable": true
   },
   "outputs": [],
   "source": [
    "corpus = train_corpus_tfidf"
   ]
  },
  {
   "cell_type": "markdown",
   "metadata": {
    "deletable": true,
    "editable": true
   },
   "source": [
    "# LSA"
   ]
  },
  {
   "cell_type": "code",
   "execution_count": null,
   "metadata": {
    "collapsed": true,
    "deletable": true,
    "editable": true
   },
   "outputs": [],
   "source": [
    "lsi_model = LsiModel(corpus=corpus, id2word=dictionary, num_topics=get_num_of_topics())"
   ]
  },
  {
   "cell_type": "markdown",
   "metadata": {
    "deletable": true,
    "editable": true
   },
   "source": [
    "# LDA"
   ]
  },
  {
   "cell_type": "code",
   "execution_count": 22,
   "metadata": {
    "collapsed": true,
    "deletable": true,
    "editable": true
   },
   "outputs": [],
   "source": [
    "lda_model = LdaMulticore(corpus=corpus, id2word=dictionary, num_topics=get_num_of_topics(), passes=1)"
   ]
  },
  {
   "cell_type": "code",
   "execution_count": null,
   "metadata": {
    "collapsed": true,
    "deletable": true,
    "editable": true
   },
   "outputs": [],
   "source": []
  },
  {
   "cell_type": "code",
   "execution_count": 23,
   "metadata": {
    "collapsed": true,
    "deletable": true,
    "editable": true
   },
   "outputs": [],
   "source": [
    "model = lda_model"
   ]
  },
  {
   "cell_type": "markdown",
   "metadata": {
    "deletable": true,
    "editable": true
   },
   "source": [
    "# Similarity index"
   ]
  },
  {
   "cell_type": "code",
   "execution_count": 24,
   "metadata": {
    "collapsed": true,
    "deletable": true,
    "editable": true
   },
   "outputs": [],
   "source": [
    "index = MatrixSimilarity(model[corpus])"
   ]
  },
  {
   "cell_type": "markdown",
   "metadata": {
    "deletable": true,
    "editable": true
   },
   "source": [
    "#  Most similar BOW"
   ]
  },
  {
   "cell_type": "code",
   "execution_count": 25,
   "metadata": {
    "collapsed": true,
    "deletable": true,
    "editable": true
   },
   "outputs": [],
   "source": [
    "def most_similar_bow(doc_name,dict_model,index_model,model,top=5):\n",
    "    # top most similar document in the training set to doc_name\n",
    "    print('document name : ', doc_name)\n",
    "    doc =get_corpus_by_names([doc_name])\n",
    "    doc = doc[0]\n",
    "    doc_rep =dict_model.doc2bow(doc)\n",
    "    doc_vec = model[doc_rep]\n",
    "    sims =index_model[doc_vec]\n",
    "    sims = sorted(enumerate(sims), key=lambda item: -item[1])\n",
    "    for i in sims[:top]:\n",
    "        print('document : ',i[0],' similarity: ',i[1])"
   ]
  },
  {
   "cell_type": "code",
   "execution_count": 28,
   "metadata": {
    "collapsed": true,
    "deletable": true,
    "editable": true
   },
   "outputs": [],
   "source": [
    "pat='./data/train/1/اقتصاد cnn businesscnnAr09biz (690).html.txt.txt'"
   ]
  },
  {
   "cell_type": "code",
   "execution_count": 30,
   "metadata": {
    "collapsed": false,
    "deletable": true,
    "editable": true
   },
   "outputs": [
    {
     "name": "stdout",
     "output_type": "stream",
     "text": [
      "document name :  ./data/train/1/اقتصاد cnn businesscnnAr09biz (690).html.txt.txt\n",
      "document :  733  similarity:  0.999807\n",
      "document :  779  similarity:  0.999655\n",
      "document :  15776  similarity:  0.999463\n",
      "document :  1810  similarity:  0.999334\n",
      "document :  675  similarity:  0.999296\n",
      "document :  14567  similarity:  0.999232\n",
      "document :  13904  similarity:  0.99914\n",
      "document :  14404  similarity:  0.99906\n",
      "document :  9825  similarity:  0.999051\n",
      "document :  14650  similarity:  0.999049\n",
      "document :  834  similarity:  0.998869\n",
      "document :  11  similarity:  0.998819\n",
      "document :  13  similarity:  0.998819\n",
      "document :  23  similarity:  0.998819\n",
      "document :  24  similarity:  0.998819\n"
     ]
    }
   ],
   "source": [
    "most_similar_bow(train_names[888],dictionary,index,model,top=15)"
   ]
  },
  {
   "cell_type": "markdown",
   "metadata": {
    "deletable": true,
    "editable": true
   },
   "source": [
    "#  Most similar TF-IDF"
   ]
  },
  {
   "cell_type": "code",
   "execution_count": 31,
   "metadata": {
    "collapsed": true,
    "deletable": true,
    "editable": true
   },
   "outputs": [],
   "source": [
    "def most_similar_tfidf(doc_name,dict_model,index_model,tfidf_model,model,top=5):\n",
    "    # top most similar document in the training set to doc_name\n",
    "    print('document name : ', doc_name)\n",
    "    doc =get_corpus_by_names([doc_name])\n",
    "    doc = doc[0]\n",
    "    doc_rep =tfidf_model[dict_model.doc2bow(doc)]\n",
    "    doc_vec = model[doc_rep]\n",
    "    sims =index_model[doc_vec]\n",
    "    sims = sorted(enumerate(sims), key=lambda item: -item[1])\n",
    "    for i in sims[:top]:\n",
    "        print('document : ',i[0],' similarity: ',i[1])"
   ]
  },
  {
   "cell_type": "code",
   "execution_count": null,
   "metadata": {
    "collapsed": true,
    "deletable": true,
    "editable": true
   },
   "outputs": [],
   "source": []
  },
  {
   "cell_type": "code",
   "execution_count": null,
   "metadata": {
    "collapsed": true,
    "deletable": true,
    "editable": true
   },
   "outputs": [],
   "source": []
  },
  {
   "cell_type": "code",
   "execution_count": 33,
   "metadata": {
    "collapsed": false,
    "deletable": true,
    "editable": true
   },
   "outputs": [
    {
     "name": "stdout",
     "output_type": "stream",
     "text": [
      "document name :  ./data/train/1/اقتصاد cnn businesscnnAr09biz (690).html.txt.txt\n",
      "document :  11  similarity:  1.0\n",
      "document :  13  similarity:  1.0\n",
      "document :  23  similarity:  1.0\n",
      "document :  24  similarity:  1.0\n",
      "document :  25  similarity:  1.0\n"
     ]
    }
   ],
   "source": [
    "most_similar_tfidf(train_names[888],dictionary,index,tfidf_model,model)"
   ]
  },
  {
   "cell_type": "markdown",
   "metadata": {
    "deletable": true,
    "editable": true
   },
   "source": [
    "# TF-IDF alone"
   ]
  },
  {
   "cell_type": "code",
   "execution_count": null,
   "metadata": {
    "collapsed": true,
    "deletable": true,
    "editable": true
   },
   "outputs": [],
   "source": [
    "#index_tfidf = gensim.similarities.MatrixSimilarity(get_corpus_tfidf(train_corpus, tfidf_model,dictionary))\n",
    "# train_corpus_tfidf = get_corpus_tfidf(train_corpus, tfidf_model,dictionary)\n",
    "index_tfidf = gensim.similarities.MatrixSimilarity(train_corpus_tfidf)"
   ]
  },
  {
   "cell_type": "code",
   "execution_count": null,
   "metadata": {
    "collapsed": true,
    "deletable": true,
    "editable": true
   },
   "outputs": [],
   "source": [
    "def most_similar_tfidf(doc_name,dict_model,index_model,tfidf_model,top=5):\n",
    "    # top most similar document in the training set to doc_name\n",
    "    print('document name : ', doc_name)\n",
    "    doc =get_corpus_by_names([doc_name])\n",
    "    doc = doc[0]\n",
    "    doc_rep =tfidf_model[dict_model.doc2bow(doc)]\n",
    "    sims =index_model[doc_rep]\n",
    "    sims = sorted(enumerate(sims), key=lambda item: -item[1])\n",
    "    for i in sims[:top]:\n",
    "        print('document : ',i[0],' similarity: ',i[1])"
   ]
  },
  {
   "cell_type": "code",
   "execution_count": null,
   "metadata": {
    "collapsed": true,
    "deletable": true,
    "editable": true
   },
   "outputs": [],
   "source": [
    "most_similar_tfidf(test_names[888],dictionary,index,tfidf_model)"
   ]
  },
  {
   "cell_type": "code",
   "execution_count": null,
   "metadata": {
    "collapsed": true,
    "deletable": true,
    "editable": true
   },
   "outputs": [],
   "source": []
  }
 ],
 "metadata": {
  "kernelspec": {
   "display_name": "Python 3",
   "language": "python",
   "name": "python3"
  },
  "language_info": {
   "codemirror_mode": {
    "name": "ipython",
    "version": 3
   },
   "file_extension": ".py",
   "mimetype": "text/x-python",
   "name": "python",
   "nbconvert_exporter": "python",
   "pygments_lexer": "ipython3",
   "version": "3.5.3"
  }
 },
 "nbformat": 4,
 "nbformat_minor": 2
}

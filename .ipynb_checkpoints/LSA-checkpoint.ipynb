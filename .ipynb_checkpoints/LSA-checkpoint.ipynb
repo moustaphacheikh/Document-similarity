{
 "cells": [
  {
   "cell_type": "code",
   "execution_count": 1,
   "metadata": {
    "collapsed": false,
    "deletable": true,
    "editable": true
   },
   "outputs": [
    {
     "name": "stderr",
     "output_type": "stream",
     "text": [
      "C:\\ProgramData\\Anaconda3\\lib\\site-packages\\gensim\\utils.py:860: UserWarning: detected Windows; aliasing chunkize to chunkize_serial\n",
      "  warnings.warn(\"detected Windows; aliasing chunkize to chunkize_serial\")\n"
     ]
    }
   ],
   "source": [
    "import tarfile\n",
    "import itertools\n",
    "import gensim\n",
    "import logging, gensim, bz2\n",
    "logging.basicConfig(format='%(asctime)s : %(levelname)s : %(message)s', level=logging.INFO)\n",
    "from nltk.tokenize import RegexpTokenizer\n",
    "from gensim.parsing.preprocessing import STOPWORDS\n",
    "from nltk.corpus import stopwords\n",
    "from nltk.stem.porter import PorterStemmer\n",
    "from os import listdir\n",
    "from os.path import isfile, join\n",
    "import numpy as np\n",
    "import seaborn as sns\n",
    "import matplotlib.pyplot as plt\n",
    "%matplotlib inline\n",
    "import re"
   ]
  },
  {
   "cell_type": "code",
   "execution_count": 2,
   "metadata": {
    "collapsed": false,
    "deletable": true,
    "editable": true
   },
   "outputs": [],
   "source": [
    "import os\n",
    "train_path = './data/train'\n",
    "test_path = './data/test'\n",
    "def docs_names(path):\n",
    "    names=[]\n",
    "    for file in os.listdir(path):\n",
    "        for s in os.listdir(path+'/'+file):\n",
    "            names.append(path+'/'+file+'/'+s)\n",
    "    return names"
   ]
  },
  {
   "cell_type": "code",
   "execution_count": null,
   "metadata": {
    "collapsed": false,
    "deletable": true,
    "editable": true
   },
   "outputs": [],
   "source": []
  },
  {
   "cell_type": "code",
   "execution_count": null,
   "metadata": {
    "collapsed": true,
    "deletable": true,
    "editable": true
   },
   "outputs": [],
   "source": []
  },
  {
   "cell_type": "code",
   "execution_count": 3,
   "metadata": {
    "collapsed": true,
    "deletable": true,
    "editable": true
   },
   "outputs": [],
   "source": [
    "STOPWORDS =['vide']\n",
    "def remove_extra_whitespace(string):\n",
    "    string = re.sub(r'\\s+', ' ', string)\n",
    "    string = re.sub(r'[^\\u0600-\\u06FF]', ' ', string)\n",
    "    return re.sub(r\"\\s{2,}\", \" \", string).strip()\n",
    "def process_message(message): \n",
    "    content =remove_extra_whitespace(message)\n",
    "    return content.split()\n",
    "def get_corpus_by_names(names):\n",
    "    corpus=[]\n",
    "    for file_name in names:\n",
    "        if isfile(join(file_name)):\n",
    "            with open(file_name, 'r',encoding='utf8') as f_:\n",
    "                text = process_message(f_.read())\n",
    "                corpus.append(text)\n",
    "    return corpus\n",
    "def get_num_of_topics():\n",
    "    return 10"
   ]
  },
  {
   "cell_type": "code",
   "execution_count": 4,
   "metadata": {
    "collapsed": false,
    "deletable": true,
    "editable": true
   },
   "outputs": [],
   "source": [
    "train_names = docs_names(train_path)\n",
    "\n",
    "train_corpus = get_corpus_by_names(train_names)\n"
   ]
  },
  {
   "cell_type": "code",
   "execution_count": 11,
   "metadata": {
    "collapsed": true
   },
   "outputs": [],
   "source": [
    "del train_corpus\n",
    "test_names = docs_names(test_path)\n",
    "test_corpus = get_corpus_by_names(test_names)"
   ]
  },
  {
   "cell_type": "code",
   "execution_count": 5,
   "metadata": {
    "collapsed": false,
    "deletable": true,
    "editable": true
   },
   "outputs": [
    {
     "name": "stderr",
     "output_type": "stream",
     "text": [
      "2017-06-17 16:35:20,897 : INFO : adding document #0 to Dictionary(0 unique tokens: [])\n",
      "2017-06-17 16:35:34,406 : INFO : adding document #10000 to Dictionary(441744 unique tokens: ['أعجل', 'بألعابه', 'مستحب؛', 'وصيني', 'الزركلي']...)\n",
      "2017-06-17 16:35:42,545 : INFO : adding document #20000 to Dictionary(539640 unique tokens: ['أعجل', 'بألعابه', 'مستحب؛', 'وصيني', 'الزركلي']...)\n",
      "2017-06-17 16:35:44,846 : INFO : built Dictionary(598188 unique tokens: ['أعجل', 'أتعينيني', 'بألعابه', 'مستحب؛', 'وصيني']...) from 21429 documents (total 16277388 corpus positions)\n",
      "2017-06-17 16:35:46,118 : INFO : discarding 515919 tokens: [('من', 21279), ('العام', 7337), ('ذلك', 10258), ('البحث', 6237), ('الثاني', 3961), ('وضع', 2211), ('فابلغه', 1), ('ان', 3998), ('ماساتشوستس', 5), ('اختراعها', 3)]...\n",
      "2017-06-17 16:35:46,120 : INFO : keeping 82269 tokens which were in no less than 10 and no more than 2142 (=10.0%) documents\n",
      "2017-06-17 16:35:46,655 : INFO : resulting dictionary: Dictionary(82269 unique tokens: ['اثنى', 'سماق', 'القاسية', 'مل', 'وتخلق']...)\n"
     ]
    }
   ],
   "source": [
    "\"\"\"\n",
    "id2word: Dictionary of the entire training vocabulary\n",
    "         with key being an id to get the word in the vocabulary.\n",
    "         The dictionary also has the statistics of the words in the vacabulary. \n",
    "\"\"\"\n",
    "id2word = gensim.corpora.dictionary.Dictionary(train_corpus)\n",
    "# Remove all words which appear in less than 10 documents and in more than 10% of the documents.\n",
    "id2word.filter_extremes(no_below=10, no_above=0.1)"
   ]
  },
  {
   "cell_type": "code",
   "execution_count": null,
   "metadata": {
    "collapsed": false,
    "deletable": true,
    "editable": true
   },
   "outputs": [],
   "source": [
    "id2word[82268]"
   ]
  },
  {
   "cell_type": "code",
   "execution_count": 6,
   "metadata": {
    "collapsed": false,
    "deletable": true,
    "editable": true
   },
   "outputs": [],
   "source": [
    "def get_corpus_bow(corpus, dictionary):\n",
    "    corpus_bow=[]\n",
    "    for tokens in corpus:\n",
    "        corpus_bow.append(dictionary.doc2bow(tokens))\n",
    "    return corpus_bow"
   ]
  },
  {
   "cell_type": "code",
   "execution_count": 7,
   "metadata": {
    "collapsed": true,
    "deletable": true,
    "editable": true
   },
   "outputs": [],
   "source": [
    "\"\"\"\n",
    "Create a generator which will yield a bag of words \n",
    "for each document in all the files belonging to every directory in dir_paths_train.\n",
    "\"\"\"\n",
    "#corpus_names=get_corpus_names(tr)\n",
    "train_corpus_bow = get_corpus_bow(train_corpus, id2word)"
   ]
  },
  {
   "cell_type": "code",
   "execution_count": 9,
   "metadata": {
    "collapsed": false,
    "deletable": true,
    "editable": true,
    "scrolled": true
   },
   "outputs": [
    {
     "name": "stderr",
     "output_type": "stream",
     "text": [
      "2017-06-17 16:36:23,361 : INFO : using serial LSI version on this node\n",
      "2017-06-17 16:36:23,363 : INFO : updating model with new documents\n",
      "2017-06-17 16:36:23,372 : INFO : preparing a new chunk of documents\n",
      "2017-06-17 16:36:25,139 : INFO : using 100 extra samples and 2 power iterations\n",
      "2017-06-17 16:36:25,155 : INFO : 1st phase: constructing (82269, 110) action matrix\n",
      "2017-06-17 16:36:26,305 : INFO : orthonormalizing (82269, 110) action matrix\n",
      "2017-06-17 16:36:33,919 : INFO : 2nd phase: running dense svd on (110, 20000) matrix\n",
      "2017-06-17 16:36:34,889 : INFO : computing the final decomposition\n",
      "2017-06-17 16:36:34,889 : INFO : keeping 10 factors (discarding 46.211% of energy spectrum)\n",
      "2017-06-17 16:36:34,985 : INFO : processed documents up to #20000\n",
      "2017-06-17 16:36:35,037 : INFO : topic #0(1866.293): 0.487*\"باشا\" + 0.353*\"بنو\" + 0.334*\"العمال\" + 0.221*\"أمراء\" + 0.176*\"أبي\" + 0.159*\"شاه\" + 0.150*\"آل\" + 0.120*\"إبراهيم\" + 0.116*\"يوسف\" + 0.108*\"ابن\"\n",
      "2017-06-17 16:36:35,040 : INFO : topic #1(1233.200): 0.443*\"فى\" + 0.265*\"ـ\" + 0.198*\"ابن\" + -0.152*\"باشا\" + 0.148*\"م\" + 0.119*\"رسول\" + 0.117*\"الأرض\" + -0.117*\"بنو\" + 0.115*\"ص\" + -0.103*\"العمال\"\n",
      "2017-06-17 16:36:35,043 : INFO : topic #2(1015.823): 0.776*\"فى\" + -0.259*\"ـ\" + 0.123*\"التى\" + 0.092*\"الذى\" + 0.083*\"أبى\" + -0.083*\"ص\" + -0.080*\"ابن\" + -0.079*\"الأرض\" + -0.075*\"النبي\" + -0.073*\"رضي\"\n",
      "2017-06-17 16:36:35,048 : INFO : topic #3(919.984): -0.783*\"تصلني\" + -0.342*\"باللغة\" + -0.333*\"الرجاء\" + -0.155*\"أعثر\" + -0.148*\"تفسير\" + -0.139*\"إجابة\" + -0.135*\"منام\" + -0.117*\"أسئلتي\" + -0.096*\"كاملة\" + -0.092*\"سؤال\"\n",
      "2017-06-17 16:36:35,051 : INFO : topic #4(872.137): -0.370*\"الطبية\" + -0.346*\"قاعة\" + -0.275*\"العيادة\" + -0.192*\"الالكترونية\" + 0.189*\"ـ\" + -0.185*\"الإنتظار\" + -0.157*\"الطبي\" + -0.139*\"المواضيع\" + 0.130*\"ابن\" + -0.117*\"الصحية\"\n",
      "2017-06-17 16:36:35,060 : INFO : preparing a new chunk of documents\n",
      "2017-06-17 16:36:35,281 : INFO : using 100 extra samples and 2 power iterations\n",
      "2017-06-17 16:36:35,281 : INFO : 1st phase: constructing (82269, 110) action matrix\n",
      "2017-06-17 16:36:35,436 : INFO : orthonormalizing (82269, 110) action matrix\n",
      "2017-06-17 16:36:37,980 : INFO : 2nd phase: running dense svd on (110, 1429) matrix\n",
      "2017-06-17 16:36:38,132 : INFO : computing the final decomposition\n",
      "2017-06-17 16:36:38,132 : INFO : keeping 10 factors (discarding 19.329% of energy spectrum)\n",
      "2017-06-17 16:36:38,192 : INFO : merging projections: (82269, 10) + (82269, 10)\n",
      "2017-06-17 16:36:38,372 : INFO : keeping 10 factors (discarding 14.900% of energy spectrum)\n",
      "2017-06-17 16:36:38,431 : INFO : processed documents up to #21429\n",
      "2017-06-17 16:36:38,436 : INFO : topic #0(2191.948): 0.350*\"ابن\" + 0.290*\"مِنْ\" + 0.267*\"أبي\" + 0.202*\"باشا\" + 0.196*\"فقال\" + 0.170*\"موسى\" + 0.155*\"بنو\" + 0.148*\"قَالَ\" + 0.146*\"رسول\" + 0.139*\"العمال\"\n",
      "2017-06-17 16:36:38,440 : INFO : topic #1(1736.527): -0.466*\"باشا\" + -0.336*\"بنو\" + -0.321*\"العمال\" + -0.211*\"أمراء\" + 0.208*\"مِنْ\" + -0.152*\"شاه\" + 0.144*\"ابن\" + -0.135*\"آل\" + 0.131*\"فقال\" + 0.106*\"قَالَ\"\n",
      "2017-06-17 16:36:38,444 : INFO : topic #2(1238.350): 0.505*\"فى\" + 0.262*\"مادة\" + 0.188*\"ـ\" + 0.176*\"القانون\" + -0.150*\"مِنْ\" + 0.136*\"م\" + 0.128*\"الطبية\" + 0.123*\"يجوز\" + 0.097*\"الصحية\" + 0.085*\"التى\"\n",
      "2017-06-17 16:36:38,447 : INFO : topic #3(1069.822): -0.644*\"فى\" + 0.379*\"مادة\" + 0.223*\"القانون\" + 0.186*\"الطبية\" + 0.164*\"يجوز\" + 0.149*\"الصحية\" + 0.104*\"التنفيذية\" + 0.094*\"اللائحة\" + -0.092*\"التى\" + 0.088*\"الطبي\"\n",
      "2017-06-17 16:36:38,453 : INFO : topic #4(987.873): -0.378*\"فى\" + 0.365*\"ـ\" + -0.316*\"مادة\" + -0.186*\"القانون\" + -0.143*\"مِنْ\" + 0.124*\"ص\" + -0.114*\"يجوز\" + 0.112*\"الأرض\" + -0.104*\"الصحية\" + -0.096*\"الطبية\"\n"
     ]
    }
   ],
   "source": [
    "lsi = gensim.models.lsimodel.LsiModel(corpus=train_corpus_bow, id2word=id2word, num_topics=get_num_of_topics())"
   ]
  },
  {
   "cell_type": "markdown",
   "metadata": {
    "deletable": true,
    "editable": true
   },
   "source": [
    "# Similarity index"
   ]
  },
  {
   "cell_type": "code",
   "execution_count": 37,
   "metadata": {
    "collapsed": false,
    "deletable": true,
    "editable": true
   },
   "outputs": [
    {
     "name": "stderr",
     "output_type": "stream",
     "text": [
      "2017-06-17 16:56:31,337 : WARNING : scanning corpus to determine the number of features (consider setting `num_features` explicitly)\n",
      "2017-06-17 16:56:31,922 : INFO : creating matrix with 5844 documents and 10 features\n"
     ]
    }
   ],
   "source": [
    "index = gensim.similarities.MatrixSimilarity(lsi[train_corpus_bow])\n",
    "# work with sub set of training set\n",
    "#index = gensim.similarities.MatrixSimilarity(lsi[train_corpus_bow[11:5855]])"
   ]
  },
  {
   "cell_type": "code",
   "execution_count": null,
   "metadata": {
    "collapsed": false,
    "deletable": true,
    "editable": true,
    "scrolled": true
   },
   "outputs": [],
   "source": []
  },
  {
   "cell_type": "code",
   "execution_count": 33,
   "metadata": {
    "collapsed": true,
    "deletable": true,
    "editable": true
   },
   "outputs": [],
   "source": [
    "def most_similar(doc_name,id2word_model,index_model,lsi_model,top=3):\n",
    "    # top most similar document in the training set to doc_name\n",
    "    print(doc_name)\n",
    "    doc =get_corpus_by_names([doc_name])\n",
    "    doc = doc[0]\n",
    "    doc_bow =id2word_model.doc2bow(doc)\n",
    "    vec_lsi = lsi_model[doc_bow]\n",
    "    sims =index_model[vec_lsi]\n",
    "    sims = sorted(enumerate(sims), key=lambda item: -item[1])\n",
    "    print(sims[:top])\n",
    "    for i in sims[:top]:\n",
    "        print('document : ',i[0],' similarity: ',i[1])"
   ]
  },
  {
   "cell_type": "code",
   "execution_count": 38,
   "metadata": {
    "collapsed": false,
    "deletable": true,
    "editable": true
   },
   "outputs": [
    {
     "name": "stdout",
     "output_type": "stream",
     "text": [
      "./data/test/8/قانون القانون الليبي القانون الليبي index2d5ee-0386.html.txt.txt\n",
      "[(5330, 0.98044628), (5300, 0.97971916), (5362, 0.97904354)]\n",
      "document :  5330  similarity:  0.980446\n",
      "document :  5300  similarity:  0.979719\n",
      "document :  5362  similarity:  0.979044\n"
     ]
    }
   ],
   "source": [
    "most_similar(test_names[888],id2word,index,lsi)"
   ]
  },
  {
   "cell_type": "code",
   "execution_count": 29,
   "metadata": {
    "collapsed": false,
    "deletable": true,
    "editable": true
   },
   "outputs": [
    {
     "data": {
      "text/plain": [
       "'./data/train/1/اقتصاد اقتصاد رشيف الاخبار الاقتصادية من مصرف سوريا المركزي news13-ar (36)-1568.htm.txt.txt'"
      ]
     },
     "execution_count": 29,
     "metadata": {},
     "output_type": "execute_result"
    }
   ],
   "source": [
    "# the document at index 1828\n",
    "train_names[1828]"
   ]
  },
  {
   "cell_type": "code",
   "execution_count": 16,
   "metadata": {
    "collapsed": false,
    "deletable": true,
    "editable": true
   },
   "outputs": [],
   "source": [
    "sims = index[vec_lsi]"
   ]
  },
  {
   "cell_type": "code",
   "execution_count": 17,
   "metadata": {
    "collapsed": false,
    "deletable": true,
    "editable": true
   },
   "outputs": [],
   "source": [
    "sims = sorted(enumerate(sims), key=lambda item: -item[1])"
   ]
  },
  {
   "cell_type": "code",
   "execution_count": 18,
   "metadata": {
    "collapsed": false,
    "deletable": true,
    "editable": true
   },
   "outputs": [
    {
     "data": {
      "text/plain": [
       "[(3015, 0.99911177),\n",
       " (3087, 0.9990747),\n",
       " (3282, 0.9989987),\n",
       " (3278, 0.9988277),\n",
       " (3205, 0.99842346),\n",
       " (3228, 0.99833471),\n",
       " (3111, 0.99806339),\n",
       " (3354, 0.99795169),\n",
       " (3326, 0.99792635),\n",
       " (3117, 0.99770772)]"
      ]
     },
     "execution_count": 18,
     "metadata": {},
     "output_type": "execute_result"
    }
   ],
   "source": [
    "sims[:10]"
   ]
  },
  {
   "cell_type": "code",
   "execution_count": 19,
   "metadata": {
    "collapsed": false,
    "deletable": true,
    "editable": true
   },
   "outputs": [
    {
     "data": {
      "text/plain": [
       "'./data/train/10/وصفات واكلات فتافيت فتافيت main0988-0021.html.txt.txt'"
      ]
     },
     "execution_count": 19,
     "metadata": {},
     "output_type": "execute_result"
    }
   ],
   "source": [
    "train_names[3015]"
   ]
  },
  {
   "cell_type": "code",
   "execution_count": null,
   "metadata": {
    "collapsed": false,
    "deletable": true,
    "editable": true
   },
   "outputs": [],
   "source": [
    "\n"
   ]
  },
  {
   "cell_type": "code",
   "execution_count": null,
   "metadata": {
    "collapsed": false,
    "deletable": true,
    "editable": true
   },
   "outputs": [],
   "source": [
    "sims"
   ]
  },
  {
   "cell_type": "code",
   "execution_count": null,
   "metadata": {
    "collapsed": false,
    "deletable": true,
    "editable": true
   },
   "outputs": [],
   "source": []
  },
  {
   "cell_type": "code",
   "execution_count": null,
   "metadata": {
    "collapsed": false,
    "deletable": true,
    "editable": true
   },
   "outputs": [],
   "source": []
  },
  {
   "cell_type": "code",
   "execution_count": null,
   "metadata": {
    "collapsed": true,
    "deletable": true,
    "editable": true
   },
   "outputs": [],
   "source": []
  }
 ],
 "metadata": {
  "kernelspec": {
   "display_name": "Python 3",
   "language": "python",
   "name": "python3"
  },
  "language_info": {
   "codemirror_mode": {
    "name": "ipython",
    "version": 3
   },
   "file_extension": ".py",
   "mimetype": "text/x-python",
   "name": "python",
   "nbconvert_exporter": "python",
   "pygments_lexer": "ipython3",
   "version": "3.5.3"
  }
 },
 "nbformat": 4,
 "nbformat_minor": 2
}
